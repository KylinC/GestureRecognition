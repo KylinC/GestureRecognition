{
  "nbformat": 4,
  "nbformat_minor": 0,
  "metadata": {
    "colab": {
      "name": "network.ipynb",
      "provenance": []
    },
    "kernelspec": {
      "name": "python3",
      "display_name": "Python 3"
    },
    "accelerator": "GPU"
  },
  "cells": [
    {
      "cell_type": "code",
      "metadata": {
        "id": "Ox8hW80LNh9O",
        "colab_type": "code",
        "colab": {}
      },
      "source": [
        "#coding:utf8\n",
        "import torch\n",
        "import torch.nn as nn\n",
        "import torch.nn.functional as F\n",
        "torch.manual_seed(1)\n",
        "import pickle\n",
        "import matplotlib.pyplot as plt\n",
        "import numpy as np"
      ],
      "execution_count": 0,
      "outputs": []
    },
    {
      "cell_type": "code",
      "metadata": {
        "id": "IIsT-ejmQHJy",
        "colab_type": "code",
        "colab": {
          "base_uri": "https://localhost:8080/",
          "height": 122
        },
        "outputId": "9f19896d-5492-416c-f679-a60aa890ce6d"
      },
      "source": [
        "from google.colab import drive\n",
        "drive.mount('/content/gdrive')"
      ],
      "execution_count": 4,
      "outputs": [
        {
          "output_type": "stream",
          "text": [
            "Go to this URL in a browser: https://accounts.google.com/o/oauth2/auth?client_id=947318989803-6bn6qk8qdgf4n4g3pfee6491hc0brc4i.apps.googleusercontent.com&redirect_uri=urn%3aietf%3awg%3aoauth%3a2.0%3aoob&response_type=code&scope=email%20https%3a%2f%2fwww.googleapis.com%2fauth%2fdocs.test%20https%3a%2f%2fwww.googleapis.com%2fauth%2fdrive%20https%3a%2f%2fwww.googleapis.com%2fauth%2fdrive.photos.readonly%20https%3a%2f%2fwww.googleapis.com%2fauth%2fpeopleapi.readonly\n",
            "\n",
            "Enter your authorization code:\n",
            "··········\n",
            "Mounted at /content/gdrive\n"
          ],
          "name": "stdout"
        }
      ]
    },
    {
      "cell_type": "code",
      "metadata": {
        "id": "SrLSsX0HQ3Es",
        "colab_type": "code",
        "colab": {
          "base_uri": "https://localhost:8080/",
          "height": 302
        },
        "outputId": "2e1c5841-8aae-4fab-e0f4-a4428ddd757d"
      },
      "source": [
        "with open('1574757410.pkl', 'rb') as inp:\n",
        "  data = pickle.load(inp)\n",
        "print(len(data[0]))\n",
        "plt.imshow(data[0][20][0])"
      ],
      "execution_count": 57,
      "outputs": [
        {
          "output_type": "stream",
          "text": [
            "90\n"
          ],
          "name": "stdout"
        },
        {
          "output_type": "execute_result",
          "data": {
            "text/plain": [
              "<matplotlib.image.AxesImage at 0x7fe5584acf98>"
            ]
          },
          "metadata": {
            "tags": []
          },
          "execution_count": 57
        },
        {
          "output_type": "display_data",
          "data": {
            "image/png": "[encoded data removed]",
            "text/plain": [
              "<Figure size 432x288 with 1 Axes>"
            ]
          },
          "metadata": {
            "tags": []
          }
        }
      ]
    },
    {
      "cell_type": "code",
      "metadata": {
        "id": "6AvNju-ARSZJ",
        "colab_type": "code",
        "colab": {}
      },
      "source": [
        "config={}\n",
        "config['cnn1_channels'] = 1\n",
        "config['cnn2_channels'] = 6\n",
        "config['cnn3_channels'] = 12"
      ],
      "execution_count": 0,
      "outputs": []
    },
    {
      "cell_type": "code",
      "metadata": {
        "id": "WJgScykXZxcI",
        "colab_type": "code",
        "colab": {}
      },
      "source": [
        "class LSTM_ges(nn.Module):\n",
        "    def __init__(self):\n",
        "      super(LSTM_ges,self).__init__()\n",
        "      self.feats = nn.Sequential(\n",
        "            nn.Conv2d(3, 12, 3, 1, 1),\n",
        "            nn.MaxPool2d(2, 2),\n",
        "            nn.ReLU(True),\n",
        "            nn.BatchNorm2d(12),\n",
        "\n",
        "            nn.Conv2d(12, 28, 3,  1, 1),\n",
        "            nn.ReLU(True),\n",
        "            nn.BatchNorm2d(28),\n",
        "\n",
        "            nn.Conv2d(28, 64, 3,  1, 1),\n",
        "            nn.MaxPool2d(2, 2),\n",
        "            nn.ReLU(True),\n",
        "            nn.BatchNorm2d(64),\n",
        "\n",
        "            nn.Conv2d(64, 16, 3, 1, 1),\n",
        "            nn.MaxPool2d(2, 2),\n",
        "            nn.ReLU(True),\n",
        "            nn.BatchNorm2d(16)\n",
        "        )\n",
        "      self.fc = nn.Sequential(\n",
        "          nn.Linear(16*8*8, 120),\n",
        "          nn.ReLU(False),\n",
        "          nn.Linear(120, 84),\n",
        "          nn.ReLU(False),\n",
        "          nn.Linear(84, 64)\n",
        "      )\n",
        "      self.lstm = nn.Sequential(\n",
        "          nn.LSTM(input_size=64,hidden_size=82,num_layers=3, bidirectional=False)\n",
        "      )\n",
        "      self.linear = nn.Linear(82,20)\n",
        "    def forward(self, x):\n",
        "      x = self.feats(x)\n",
        "      x = x.view(x.size(0),-1)\n",
        "      x = self.fc(x)\n",
        "      x, hidden = self.lstm(x.unsqueeze(1))\n",
        "      x = self.linear(x)\n",
        "      return x"
      ],
      "execution_count": 0,
      "outputs": []
    },
    {
      "cell_type": "code",
      "metadata": {
        "id": "kNSdci2lfGHp",
        "colab_type": "code",
        "colab": {}
      },
      "source": [
        "model = LSTM_ges()"
      ],
      "execution_count": 0,
      "outputs": []
    },
    {
      "cell_type": "code",
      "metadata": {
        "id": "qYtShq6bfKVe",
        "colab_type": "code",
        "colab": {
          "base_uri": "https://localhost:8080/",
          "height": 527
        },
        "outputId": "e4625ae3-8c44-4e2b-913d-83220307e3f7"
      },
      "source": [
        "model"
      ],
      "execution_count": 54,
      "outputs": [
        {
          "output_type": "execute_result",
          "data": {
            "text/plain": [
              "LSTM_ges(\n",
              "  (feats): Sequential(\n",
              "    (0): Conv2d(3, 12, kernel_size=(3, 3), stride=(1, 1), padding=(1, 1))\n",
              "    (1): MaxPool2d(kernel_size=2, stride=2, padding=0, dilation=1, ceil_mode=False)\n",
              "    (2): ReLU(inplace=True)\n",
              "    (3): BatchNorm2d(12, eps=1e-05, momentum=0.1, affine=True, track_running_stats=True)\n",
              "    (4): Conv2d(12, 28, kernel_size=(3, 3), stride=(1, 1), padding=(1, 1))\n",
              "    (5): ReLU(inplace=True)\n",
              "    (6): BatchNorm2d(28, eps=1e-05, momentum=0.1, affine=True, track_running_stats=True)\n",
              "    (7): Conv2d(28, 64, kernel_size=(3, 3), stride=(1, 1), padding=(1, 1))\n",
              "    (8): MaxPool2d(kernel_size=2, stride=2, padding=0, dilation=1, ceil_mode=False)\n",
              "    (9): ReLU(inplace=True)\n",
              "    (10): BatchNorm2d(64, eps=1e-05, momentum=0.1, affine=True, track_running_stats=True)\n",
              "    (11): Conv2d(64, 16, kernel_size=(3, 3), stride=(1, 1), padding=(1, 1))\n",
              "    (12): MaxPool2d(kernel_size=2, stride=2, padding=0, dilation=1, ceil_mode=False)\n",
              "    (13): ReLU(inplace=True)\n",
              "    (14): BatchNorm2d(16, eps=1e-05, momentum=0.1, affine=True, track_running_stats=True)\n",
              "  )\n",
              "  (fc): Sequential(\n",
              "    (0): Linear(in_features=1024, out_features=120, bias=True)\n",
              "    (1): ReLU()\n",
              "    (2): Linear(in_features=120, out_features=84, bias=True)\n",
              "    (3): ReLU()\n",
              "    (4): Linear(in_features=84, out_features=64, bias=True)\n",
              "  )\n",
              "  (lstm): Sequential(\n",
              "    (0): LSTM(64, 82, num_layers=3)\n",
              "  )\n",
              "  (linear): Linear(in_features=82, out_features=20, bias=True)\n",
              ")"
            ]
          },
          "metadata": {
            "tags": []
          },
          "execution_count": 54
        }
      ]
    },
    {
      "cell_type": "code",
      "metadata": {
        "id": "fTDzBuH-fS4t",
        "colab_type": "code",
        "colab": {
          "base_uri": "https://localhost:8080/",
          "height": 34
        },
        "outputId": "efab9080-a7ac-4063-b8c7-f0fb5a753906"
      },
      "source": [
        "input_data = data[0][20][0].astype(np.float32).transpose(2, 1, 0)\n",
        "model.forward(torch.tensor([input_data])).size()"
      ],
      "execution_count": 55,
      "outputs": [
        {
          "output_type": "execute_result",
          "data": {
            "text/plain": [
              "torch.Size([1, 1, 20])"
            ]
          },
          "metadata": {
            "tags": []
          },
          "execution_count": 55
        }
      ]
    },
    {
      "cell_type": "code",
      "metadata": {
        "id": "XVawlcZafh08",
        "colab_type": "code",
        "colab": {}
      },
      "source": [
        ""
      ],
      "execution_count": 0,
      "outputs": []
    }
  ]
}